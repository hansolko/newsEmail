{
  "nbformat": 4,
  "nbformat_minor": 0,
  "metadata": {
    "colab": {
      "name": "pyspark.ipynb",
      "provenance": [],
      "collapsed_sections": [],
      "toc_visible": true,
      "authorship_tag": "ABX9TyN5bM0r+oB3Lx5+mwAYCROn",
      "include_colab_link": true
    },
    "kernelspec": {
      "name": "python3",
      "display_name": "Python 3"
    },
    "language_info": {
      "name": "python"
    }
  },
  "cells": [
    {
      "cell_type": "markdown",
      "metadata": {
        "id": "view-in-github",
        "colab_type": "text"
      },
      "source": [
        "<a href=\"https://colab.research.google.com/github/hansolko/newsEmail/blob/master/pyspark.ipynb\" target=\"_parent\"><img src=\"https://colab.research.google.com/assets/colab-badge.svg\" alt=\"Open In Colab\"/></a>"
      ]
    },
    {
      "cell_type": "code",
      "metadata": {
        "colab": {
          "base_uri": "https://localhost:8080/"
        },
        "id": "4MPnfqvOkAK1",
        "outputId": "1017f642-844c-482d-ac01-b6d52078e92e"
      },
      "source": [
        "!pip install pyspark"
      ],
      "execution_count": 9,
      "outputs": [
        {
          "output_type": "stream",
          "name": "stdout",
          "text": [
            "Collecting pyspark\n",
            "  Downloading pyspark-3.2.0.tar.gz (281.3 MB)\n",
            "\u001b[K     |████████████████████████████████| 281.3 MB 39 kB/s \n",
            "\u001b[?25hCollecting py4j==0.10.9.2\n",
            "  Downloading py4j-0.10.9.2-py2.py3-none-any.whl (198 kB)\n",
            "\u001b[K     |████████████████████████████████| 198 kB 54.3 MB/s \n",
            "\u001b[?25hBuilding wheels for collected packages: pyspark\n",
            "  Building wheel for pyspark (setup.py) ... \u001b[?25l\u001b[?25hdone\n",
            "  Created wheel for pyspark: filename=pyspark-3.2.0-py2.py3-none-any.whl size=281805912 sha256=fdde7a0b38dd95728b52023ec75f45baa85c762c659c8ce3eef39affd6c5ff3d\n",
            "  Stored in directory: /root/.cache/pip/wheels/0b/de/d2/9be5d59d7331c6c2a7c1b6d1a4f463ce107332b1ecd4e80718\n",
            "Successfully built pyspark\n",
            "Installing collected packages: py4j, pyspark\n",
            "Successfully installed py4j-0.10.9.2 pyspark-3.2.0\n"
          ]
        }
      ]
    },
    {
      "cell_type": "code",
      "metadata": {
        "id": "WUfs7jBCkZ6C"
      },
      "source": [
        "from pyspark.sql import SparkSession\n",
        "from pyspark.sql.types import IntegerType\n",
        "import pyspark.sql.functions as f\n",
        "from datetime import datetime, date\n",
        "from pyspark.sql.functions import col, udf\n",
        "from pyspark.sql.types import DateType"
      ],
      "execution_count": 10,
      "outputs": []
    },
    {
      "cell_type": "markdown",
      "metadata": {
        "id": "c0HySS3XLJ9u"
      },
      "source": [
        "# Day 1."
      ]
    },
    {
      "cell_type": "markdown",
      "metadata": {
        "id": "9S5PvWuQe_gu"
      },
      "source": [
        "## Q1."
      ]
    },
    {
      "cell_type": "code",
      "metadata": {
        "id": "ZBZXFVv6k3F_"
      },
      "source": [
        "spark = SparkSession.builder.appName('SparkByExamples').getOrCreate()"
      ],
      "execution_count": 5,
      "outputs": []
    },
    {
      "cell_type": "code",
      "metadata": {
        "colab": {
          "base_uri": "https://localhost:8080/"
        },
        "id": "PWUBo6iIlDRv",
        "outputId": "950c3bcd-8690-46f9-c6ef-fc16dfb070cf"
      },
      "source": [
        "data = [(\"James\", \"M\", 60000), (\"Michale\", \"M\", 70000),\n",
        "        (\"Robert\", None, 400000), (\"Maria\", \"F\", 500000),\n",
        "        (\"Jen\", \"\", None)]\n",
        "columns = [\"name\", \"gender\", 'salary']\n",
        "df = spark.createDataFrame(data = data, schema = columns)\n",
        "df.show()"
      ],
      "execution_count": 6,
      "outputs": [
        {
          "output_type": "stream",
          "name": "stdout",
          "text": [
            "+-------+------+------+\n",
            "|   name|gender|salary|\n",
            "+-------+------+------+\n",
            "|  James|     M| 60000|\n",
            "|Michale|     M| 70000|\n",
            "| Robert|  null|400000|\n",
            "|  Maria|     F|500000|\n",
            "|    Jen|      |  null|\n",
            "+-------+------+------+\n",
            "\n"
          ]
        }
      ]
    },
    {
      "cell_type": "code",
      "metadata": {
        "colab": {
          "base_uri": "https://localhost:8080/"
        },
        "id": "Nrq-XNIllicx",
        "outputId": "83ff09fa-a13d-4b93-b980-2a37551ad6cf"
      },
      "source": [
        "data2 = [(\"MEM001\", \"M\", \"2021-03-17\"),\n",
        "        (\"MEM003\", \"F\", \"2021-11-01\"),\n",
        "        (\"MEM002\", \"M\", \"2021-05-20\")]\n",
        "columns2 = [\"name\", \"gender\", 'date']\n",
        "df2 = spark.createDataFrame(data = data2, schema = columns2)\n",
        "df2.show()"
      ],
      "execution_count": 7,
      "outputs": [
        {
          "output_type": "stream",
          "name": "stdout",
          "text": [
            "+------+------+----------+\n",
            "|  name|gender|      date|\n",
            "+------+------+----------+\n",
            "|MEM001|     M|2021-03-17|\n",
            "|MEM003|     F|2021-11-01|\n",
            "|MEM002|     M|2021-05-20|\n",
            "+------+------+----------+\n",
            "\n"
          ]
        }
      ]
    },
    {
      "cell_type": "markdown",
      "metadata": {
        "id": "Ivv0hbrifIa9"
      },
      "source": [
        "## Q2."
      ]
    },
    {
      "cell_type": "code",
      "metadata": {
        "colab": {
          "base_uri": "https://localhost:8080/"
        },
        "id": "Vde3uufkmVIZ",
        "outputId": "4cebddd4-dc99-48bf-a205-f01f404cea60"
      },
      "source": [
        "# This function converts the string cell into a date:\n",
        "func =  udf(lambda x: datetime.strptime(x, '%Y-%m-%d'), DateType())\n",
        "\n",
        "df3 = df2.withColumn('datetime', func(col('date')))\n",
        "df3.show()\n",
        "df3.printSchema()"
      ],
      "execution_count": 8,
      "outputs": [
        {
          "output_type": "stream",
          "name": "stdout",
          "text": [
            "+------+------+----------+----------+\n",
            "|  name|gender|      date|  datetime|\n",
            "+------+------+----------+----------+\n",
            "|MEM001|     M|2021-03-17|2021-03-17|\n",
            "|MEM003|     F|2021-11-01|2021-11-01|\n",
            "|MEM002|     M|2021-05-20|2021-05-20|\n",
            "+------+------+----------+----------+\n",
            "\n",
            "root\n",
            " |-- name: string (nullable = true)\n",
            " |-- gender: string (nullable = true)\n",
            " |-- date: string (nullable = true)\n",
            " |-- datetime: date (nullable = true)\n",
            "\n"
          ]
        }
      ]
    },
    {
      "cell_type": "code",
      "metadata": {
        "colab": {
          "base_uri": "https://localhost:8080/"
        },
        "id": "cLkml-QyqgkC",
        "outputId": "aadf4ec1-4060-4821-b9a3-536ab802efcc"
      },
      "source": [
        "# This function makes month column by using datetime column\n",
        "func2 = udf(lambda x: x.month)\n",
        "\n",
        "df4 = df3.withColumn('month', func2(col('datetime')))\n",
        "df5 = df4.drop(df4.datetime)   # 사용한 열 삭제\n",
        "df5.show()"
      ],
      "execution_count": 9,
      "outputs": [
        {
          "output_type": "stream",
          "name": "stdout",
          "text": [
            "+------+------+----------+-----+\n",
            "|  name|gender|      date|month|\n",
            "+------+------+----------+-----+\n",
            "|MEM001|     M|2021-03-17|    3|\n",
            "|MEM003|     F|2021-11-01|   11|\n",
            "|MEM002|     M|2021-05-20|    5|\n",
            "+------+------+----------+-----+\n",
            "\n"
          ]
        }
      ]
    },
    {
      "cell_type": "markdown",
      "metadata": {
        "id": "u3bzgevWLOX6"
      },
      "source": [
        "# Day 2."
      ]
    },
    {
      "cell_type": "markdown",
      "metadata": {
        "id": "ddzxMVWQfOBt"
      },
      "source": [
        "## Q1."
      ]
    },
    {
      "cell_type": "code",
      "metadata": {
        "id": "xyD0MnuBp5mD"
      },
      "source": [
        "spark = SparkSession.builder.appName('SparkByExamples').getOrCreate()"
      ],
      "execution_count": 11,
      "outputs": []
    },
    {
      "cell_type": "code",
      "metadata": {
        "colab": {
          "base_uri": "https://localhost:8080/"
        },
        "id": "D19lJRf_Lt8o",
        "outputId": "67ce6bc9-84f1-46e8-c8a7-c4eee0b486d3"
      },
      "source": [
        "day2_data = [(\"MEM001\", 10, \"2021-03-17\", 12), \n",
        "             (\"MEM003\", 20, \"2021-11-01\", 1),\n",
        "             (\"MEM002\", 10, \"2021-05-20\", 45), \n",
        "             (\"MEM00\", 10, \"2021-05-20\", 32),\n",
        "             (\"MEM00\", 10, \"2021-05-20\", 55),\n",
        "             (\"MEM00\", 10, \"2021-05-20\", 12), \n",
        "             (\"MEM0\", 20, \"2021-05-20\", 1),\n",
        "             (\"MEM0\", 10, \"2021-05-20\", 45), \n",
        "             (\"MEM00\", 30, \"2021-05-20\", 32),\n",
        "             (\"MEM00\", None, \"2021-05-20\", 23),\n",
        "             (\"MEM001\", 10, \"2021-03-17\", 23), \n",
        "             (\"MEM003\", 20, \"2021-11-01\", 12),\n",
        "             (\"MEM002\", 10, \"2021-05-20\", 32), \n",
        "             (\"MEM00\", 30, \"2021-05-20\", 32),\n",
        "             (\"MEM00\", 10, \"2021-05-20\", 55),\n",
        "             (\"MEM00\", 20, \"2021-05-20\", None), \n",
        "             (\"MEM0\", 20, \"2021-05-20\", 1),\n",
        "             (\"MEM0\", 10, \"2021-05-20\", 54), \n",
        "             (\"MEM00\", 10, \"2021-05-20\", 3),\n",
        "             (\"MEM00\", 20, \"2021-05-20\", 53)]\n",
        "day2_columns = [\"회원ID\", \"gender\", 'date', 'age']\n",
        "day2_df = spark.createDataFrame(data = day2_data, schema = day2_columns)\n",
        "day2_df.show()"
      ],
      "execution_count": 12,
      "outputs": [
        {
          "output_type": "stream",
          "name": "stdout",
          "text": [
            "+------+------+----------+----+\n",
            "|회원ID|gender|      date| age|\n",
            "+------+------+----------+----+\n",
            "|MEM001|    10|2021-03-17|  12|\n",
            "|MEM003|    20|2021-11-01|   1|\n",
            "|MEM002|    10|2021-05-20|  45|\n",
            "| MEM00|    10|2021-05-20|  32|\n",
            "| MEM00|    10|2021-05-20|  55|\n",
            "| MEM00|    10|2021-05-20|  12|\n",
            "|  MEM0|    20|2021-05-20|   1|\n",
            "|  MEM0|    10|2021-05-20|  45|\n",
            "| MEM00|    30|2021-05-20|  32|\n",
            "| MEM00|  null|2021-05-20|  23|\n",
            "|MEM001|    10|2021-03-17|  23|\n",
            "|MEM003|    20|2021-11-01|  12|\n",
            "|MEM002|    10|2021-05-20|  32|\n",
            "| MEM00|    30|2021-05-20|  32|\n",
            "| MEM00|    10|2021-05-20|  55|\n",
            "| MEM00|    20|2021-05-20|null|\n",
            "|  MEM0|    20|2021-05-20|   1|\n",
            "|  MEM0|    10|2021-05-20|  54|\n",
            "| MEM00|    10|2021-05-20|   3|\n",
            "| MEM00|    20|2021-05-20|  53|\n",
            "+------+------+----------+----+\n",
            "\n"
          ]
        }
      ]
    },
    {
      "cell_type": "markdown",
      "metadata": {
        "id": "1uJlmHnGfQ0z"
      },
      "source": [
        "## Q2."
      ]
    },
    {
      "cell_type": "code",
      "metadata": {
        "colab": {
          "base_uri": "https://localhost:8080/"
        },
        "id": "GBMZDOg-LVj9",
        "outputId": "7fd98565-ac6d-4c7d-ef58-0fa6d1d9a899"
      },
      "source": [
        "# Q2\n",
        "def new_gender_generator(x):\n",
        "    if x == 10:\n",
        "        return \"여\"\n",
        "    elif x == 20:\n",
        "        return \"남\"\n",
        "    else:\n",
        "        return \"정보없음\"\n",
        "\n",
        "def new_age_generator(x):\n",
        "    if x == None:\n",
        "        return \"정보없음\"\n",
        "    elif x < 10:\n",
        "        return \"정보없음\"\n",
        "    elif x < 20:\n",
        "        return \"10대\"\n",
        "    elif x < 30:\n",
        "        return \"20대\"\n",
        "    elif x < 40:\n",
        "        return \"30대\"\n",
        "    else:\n",
        "        return \"40대 이상\"\n",
        "\n",
        "\n",
        "gender_udf =  udf(lambda x: new_gender_generator(x))\n",
        "age_udf =  udf(lambda x: new_age_generator(x))\n",
        "\n",
        "# 적용\n",
        "day2_df2 = day2_df.withColumn('new_gender', gender_udf(col('gender')))\n",
        "day2_df3 = day2_df2.withColumn('new_age', age_udf(col('age')))\n",
        "\n",
        "day2_df3.show()\n",
        "day2_df3.printSchema()"
      ],
      "execution_count": 13,
      "outputs": [
        {
          "output_type": "stream",
          "name": "stdout",
          "text": [
            "+------+------+----------+----+----------+---------+\n",
            "|회원ID|gender|      date| age|new_gender|  new_age|\n",
            "+------+------+----------+----+----------+---------+\n",
            "|MEM001|    10|2021-03-17|  12|        여|     10대|\n",
            "|MEM003|    20|2021-11-01|   1|        남| 정보없음|\n",
            "|MEM002|    10|2021-05-20|  45|        여|40대 이상|\n",
            "| MEM00|    10|2021-05-20|  32|        여|     30대|\n",
            "| MEM00|    10|2021-05-20|  55|        여|40대 이상|\n",
            "| MEM00|    10|2021-05-20|  12|        여|     10대|\n",
            "|  MEM0|    20|2021-05-20|   1|        남| 정보없음|\n",
            "|  MEM0|    10|2021-05-20|  45|        여|40대 이상|\n",
            "| MEM00|    30|2021-05-20|  32|  정보없음|     30대|\n",
            "| MEM00|  null|2021-05-20|  23|  정보없음|     20대|\n",
            "|MEM001|    10|2021-03-17|  23|        여|     20대|\n",
            "|MEM003|    20|2021-11-01|  12|        남|     10대|\n",
            "|MEM002|    10|2021-05-20|  32|        여|     30대|\n",
            "| MEM00|    30|2021-05-20|  32|  정보없음|     30대|\n",
            "| MEM00|    10|2021-05-20|  55|        여|40대 이상|\n",
            "| MEM00|    20|2021-05-20|null|        남| 정보없음|\n",
            "|  MEM0|    20|2021-05-20|   1|        남| 정보없음|\n",
            "|  MEM0|    10|2021-05-20|  54|        여|40대 이상|\n",
            "| MEM00|    10|2021-05-20|   3|        여| 정보없음|\n",
            "| MEM00|    20|2021-05-20|  53|        남|40대 이상|\n",
            "+------+------+----------+----+----------+---------+\n",
            "\n",
            "root\n",
            " |-- 회원ID: string (nullable = true)\n",
            " |-- gender: long (nullable = true)\n",
            " |-- date: string (nullable = true)\n",
            " |-- age: long (nullable = true)\n",
            " |-- new_gender: string (nullable = true)\n",
            " |-- new_age: string (nullable = true)\n",
            "\n"
          ]
        }
      ]
    },
    {
      "cell_type": "code",
      "metadata": {
        "id": "Ut7Ev9gDP1PX"
      },
      "source": [
        ""
      ],
      "execution_count": 13,
      "outputs": []
    },
    {
      "cell_type": "markdown",
      "metadata": {
        "id": "g934TtohfTYZ"
      },
      "source": [
        "# Day3."
      ]
    },
    {
      "cell_type": "markdown",
      "metadata": {
        "id": "_bd-gmlJfVO3"
      },
      "source": [
        "## Q1."
      ]
    },
    {
      "cell_type": "code",
      "metadata": {
        "id": "_flw49S4fWHu"
      },
      "source": [
        "spark = SparkSession.builder.appName('SparkByExamples').getOrCreate()"
      ],
      "execution_count": 14,
      "outputs": []
    },
    {
      "cell_type": "code",
      "metadata": {
        "colab": {
          "base_uri": "https://localhost:8080/"
        },
        "id": "NUupMD4MfWWe",
        "outputId": "2a48690e-8f58-450a-8145-f51352c10b83"
      },
      "source": [
        "day3_data = [(\"MEM001\",\"2021-03-17\"), \n",
        "             (\"MEM003\",\"2021-11-01\"),\n",
        "             (\"MEM002\",\"2021-05-20\"), \n",
        "             (\"MEM00\",\"2021-05-20\")]\n",
        "day3_columns = [\"회원ID\", 'date']\n",
        "day3_df = spark.createDataFrame(data = day3_data, schema = day3_columns)\n",
        "day3_df.show()"
      ],
      "execution_count": 15,
      "outputs": [
        {
          "output_type": "stream",
          "name": "stdout",
          "text": [
            "+------+----------+\n",
            "|회원ID|      date|\n",
            "+------+----------+\n",
            "|MEM001|2021-03-17|\n",
            "|MEM003|2021-11-01|\n",
            "|MEM002|2021-05-20|\n",
            "| MEM00|2021-05-20|\n",
            "+------+----------+\n",
            "\n"
          ]
        }
      ]
    },
    {
      "cell_type": "markdown",
      "metadata": {
        "id": "KeDWoWxchJXz"
      },
      "source": [
        "## Q2. INNER JOIN TEST"
      ]
    },
    {
      "cell_type": "code",
      "metadata": {
        "colab": {
          "base_uri": "https://localhost:8080/"
        },
        "id": "zdsONugWhKmm",
        "outputId": "fb93e030-2f4b-4ccf-d5a7-279ec2adcedd"
      },
      "source": [
        "day2_df3.show()\n",
        "day3_df.show()"
      ],
      "execution_count": 16,
      "outputs": [
        {
          "output_type": "stream",
          "name": "stdout",
          "text": [
            "+------+------+----------+----+----------+---------+\n",
            "|회원ID|gender|      date| age|new_gender|  new_age|\n",
            "+------+------+----------+----+----------+---------+\n",
            "|MEM001|    10|2021-03-17|  12|        여|     10대|\n",
            "|MEM003|    20|2021-11-01|   1|        남| 정보없음|\n",
            "|MEM002|    10|2021-05-20|  45|        여|40대 이상|\n",
            "| MEM00|    10|2021-05-20|  32|        여|     30대|\n",
            "| MEM00|    10|2021-05-20|  55|        여|40대 이상|\n",
            "| MEM00|    10|2021-05-20|  12|        여|     10대|\n",
            "|  MEM0|    20|2021-05-20|   1|        남| 정보없음|\n",
            "|  MEM0|    10|2021-05-20|  45|        여|40대 이상|\n",
            "| MEM00|    30|2021-05-20|  32|  정보없음|     30대|\n",
            "| MEM00|  null|2021-05-20|  23|  정보없음|     20대|\n",
            "|MEM001|    10|2021-03-17|  23|        여|     20대|\n",
            "|MEM003|    20|2021-11-01|  12|        남|     10대|\n",
            "|MEM002|    10|2021-05-20|  32|        여|     30대|\n",
            "| MEM00|    30|2021-05-20|  32|  정보없음|     30대|\n",
            "| MEM00|    10|2021-05-20|  55|        여|40대 이상|\n",
            "| MEM00|    20|2021-05-20|null|        남| 정보없음|\n",
            "|  MEM0|    20|2021-05-20|   1|        남| 정보없음|\n",
            "|  MEM0|    10|2021-05-20|  54|        여|40대 이상|\n",
            "| MEM00|    10|2021-05-20|   3|        여| 정보없음|\n",
            "| MEM00|    20|2021-05-20|  53|        남|40대 이상|\n",
            "+------+------+----------+----+----------+---------+\n",
            "\n",
            "+------+----------+\n",
            "|회원ID|      date|\n",
            "+------+----------+\n",
            "|MEM001|2021-03-17|\n",
            "|MEM003|2021-11-01|\n",
            "|MEM002|2021-05-20|\n",
            "| MEM00|2021-05-20|\n",
            "+------+----------+\n",
            "\n"
          ]
        }
      ]
    },
    {
      "cell_type": "code",
      "metadata": {
        "colab": {
          "base_uri": "https://localhost:8080/"
        },
        "id": "JRmYfqxag0km",
        "outputId": "ca7a5410-7004-4666-94de-a83b92a1878a"
      },
      "source": [
        "# join test (사실 할 필요 없음)\n",
        "inner_join = day2_df3.join(day3_df, day2_df3.date == day3_df.date, how = 'inner')\n",
        "inner_join.show()"
      ],
      "execution_count": 17,
      "outputs": [
        {
          "output_type": "stream",
          "name": "stdout",
          "text": [
            "+------+------+----------+---+----------+---------+------+----------+\n",
            "|회원ID|gender|      date|age|new_gender|  new_age|회원ID|      date|\n",
            "+------+------+----------+---+----------+---------+------+----------+\n",
            "|MEM001|    10|2021-03-17| 12|        여|     10대|MEM001|2021-03-17|\n",
            "|MEM001|    10|2021-03-17| 23|        여|     20대|MEM001|2021-03-17|\n",
            "|MEM002|    10|2021-05-20| 45|        여|40대 이상|MEM002|2021-05-20|\n",
            "|MEM002|    10|2021-05-20| 45|        여|40대 이상| MEM00|2021-05-20|\n",
            "| MEM00|    10|2021-05-20| 32|        여|     30대|MEM002|2021-05-20|\n",
            "| MEM00|    10|2021-05-20| 32|        여|     30대| MEM00|2021-05-20|\n",
            "| MEM00|    10|2021-05-20| 55|        여|40대 이상|MEM002|2021-05-20|\n",
            "| MEM00|    10|2021-05-20| 55|        여|40대 이상| MEM00|2021-05-20|\n",
            "| MEM00|    10|2021-05-20| 12|        여|     10대|MEM002|2021-05-20|\n",
            "| MEM00|    10|2021-05-20| 12|        여|     10대| MEM00|2021-05-20|\n",
            "|  MEM0|    20|2021-05-20|  1|        남| 정보없음|MEM002|2021-05-20|\n",
            "|  MEM0|    20|2021-05-20|  1|        남| 정보없음| MEM00|2021-05-20|\n",
            "|  MEM0|    10|2021-05-20| 45|        여|40대 이상|MEM002|2021-05-20|\n",
            "|  MEM0|    10|2021-05-20| 45|        여|40대 이상| MEM00|2021-05-20|\n",
            "| MEM00|    30|2021-05-20| 32|  정보없음|     30대|MEM002|2021-05-20|\n",
            "| MEM00|    30|2021-05-20| 32|  정보없음|     30대| MEM00|2021-05-20|\n",
            "| MEM00|  null|2021-05-20| 23|  정보없음|     20대|MEM002|2021-05-20|\n",
            "| MEM00|  null|2021-05-20| 23|  정보없음|     20대| MEM00|2021-05-20|\n",
            "|MEM002|    10|2021-05-20| 32|        여|     30대|MEM002|2021-05-20|\n",
            "|MEM002|    10|2021-05-20| 32|        여|     30대| MEM00|2021-05-20|\n",
            "+------+------+----------+---+----------+---------+------+----------+\n",
            "only showing top 20 rows\n",
            "\n"
          ]
        }
      ]
    },
    {
      "cell_type": "code",
      "metadata": {
        "colab": {
          "base_uri": "https://localhost:8080/"
        },
        "id": "23UvAX-mgykn",
        "outputId": "46402888-66f4-48c8-aca4-4855e6d0ea69"
      },
      "source": [
        "# groupby\n",
        "inner_join_by_gender_age = inner_join.groupby([\"new_gender\", \"new_age\"]).count()\n",
        "inner_join_by_gender_age.show()"
      ],
      "execution_count": 18,
      "outputs": [
        {
          "output_type": "stream",
          "name": "stdout",
          "text": [
            "+----------+---------+-----+\n",
            "|new_gender|  new_age|count|\n",
            "+----------+---------+-----+\n",
            "|        남|     10대|    1|\n",
            "|        여| 정보없음|    2|\n",
            "|        여|     20대|    1|\n",
            "|  정보없음|     20대|    2|\n",
            "|        남| 정보없음|    7|\n",
            "|        여|     30대|    4|\n",
            "|        남|40대 이상|    2|\n",
            "|        여|40대 이상|   10|\n",
            "|  정보없음|     30대|    4|\n",
            "|        여|     10대|    3|\n",
            "+----------+---------+-----+\n",
            "\n"
          ]
        }
      ]
    },
    {
      "cell_type": "markdown",
      "metadata": {
        "id": "VUesV66vV0Lf"
      },
      "source": [
        "## Q3."
      ]
    },
    {
      "cell_type": "code",
      "metadata": {
        "colab": {
          "base_uri": "https://localhost:8080/"
        },
        "id": "G4Dy6Uy-V1NW",
        "outputId": "5a747b55-3f35-4566-a1d3-2393787b7d9d"
      },
      "source": [
        "# 열 이름 '활동고객수'로 변경\n",
        "df_spark = inner_join_by_gender_age.select(\n",
        "    col('new_gender'),\n",
        "    col('new_age'),\n",
        "    col('count').alias('활동고객수') \n",
        ")\n",
        "df_spark.show()"
      ],
      "execution_count": 19,
      "outputs": [
        {
          "output_type": "stream",
          "name": "stdout",
          "text": [
            "+----------+---------+----------+\n",
            "|new_gender|  new_age|활동고객수|\n",
            "+----------+---------+----------+\n",
            "|        남|     10대|         1|\n",
            "|        여| 정보없음|         2|\n",
            "|        여|     20대|         1|\n",
            "|  정보없음|     20대|         2|\n",
            "|        남| 정보없음|         7|\n",
            "|        여|     30대|         4|\n",
            "|        남|40대 이상|         2|\n",
            "|        여|40대 이상|        10|\n",
            "|  정보없음|     30대|         4|\n",
            "|        여|     10대|         3|\n",
            "+----------+---------+----------+\n",
            "\n"
          ]
        }
      ]
    },
    {
      "cell_type": "markdown",
      "metadata": {
        "id": "qY22HmOvfY_D"
      },
      "source": [
        "## Q4."
      ]
    },
    {
      "cell_type": "code",
      "metadata": {
        "colab": {
          "base_uri": "https://localhost:8080/"
        },
        "id": "e-xkzWQbytu2",
        "outputId": "f54d0259-a33e-4fdf-8e92-5b6548f14ca4"
      },
      "source": [
        "# sorting\n",
        "sort_by_gender = df_spark.sort(df_spark.new_gender.asc())\n",
        "sort_by_gender_age = sort_by_gender.sort(sort_by_gender.new_age.asc())\n",
        "sort_by_gender_age.show()"
      ],
      "execution_count": 20,
      "outputs": [
        {
          "output_type": "stream",
          "name": "stdout",
          "text": [
            "+----------+---------+----------+\n",
            "|new_gender|  new_age|활동고객수|\n",
            "+----------+---------+----------+\n",
            "|        남|     10대|         1|\n",
            "|        여|     10대|         3|\n",
            "|        여|     20대|         1|\n",
            "|  정보없음|     20대|         2|\n",
            "|        여|     30대|         4|\n",
            "|  정보없음|     30대|         4|\n",
            "|        여|40대 이상|        10|\n",
            "|        남|40대 이상|         2|\n",
            "|        여| 정보없음|         2|\n",
            "|        남| 정보없음|         7|\n",
            "+----------+---------+----------+\n",
            "\n"
          ]
        }
      ]
    },
    {
      "cell_type": "code",
      "metadata": {
        "id": "xPOFBASUfUam"
      },
      "source": [
        ""
      ],
      "execution_count": 12,
      "outputs": []
    },
    {
      "cell_type": "code",
      "metadata": {
        "id": "mSCa7EDtLVmu"
      },
      "source": [
        ""
      ],
      "execution_count": null,
      "outputs": []
    },
    {
      "cell_type": "code",
      "metadata": {
        "id": "XxRiVD52LVpj"
      },
      "source": [
        ""
      ],
      "execution_count": null,
      "outputs": []
    },
    {
      "cell_type": "code",
      "metadata": {
        "id": "8kDfkFUnLVsD"
      },
      "source": [
        ""
      ],
      "execution_count": null,
      "outputs": []
    },
    {
      "cell_type": "code",
      "metadata": {
        "id": "ZNTPB38CpGJG"
      },
      "source": [
        ""
      ],
      "execution_count": null,
      "outputs": []
    },
    {
      "cell_type": "code",
      "metadata": {
        "id": "JKrXNhIepku2"
      },
      "source": [
        ""
      ],
      "execution_count": null,
      "outputs": []
    }
  ]
}