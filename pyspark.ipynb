{
  "nbformat": 4,
  "nbformat_minor": 0,
  "metadata": {
    "colab": {
      "name": "pyspark.ipynb",
      "provenance": [],
      "collapsed_sections": [],
      "toc_visible": true,
      "authorship_tag": "ABX9TyOFdO5m/ie4MvqFAag6Hncf",
      "include_colab_link": true
    },
    "kernelspec": {
      "name": "python3",
      "display_name": "Python 3"
    },
    "language_info": {
      "name": "python"
    }
  },
  "cells": [
    {
      "cell_type": "markdown",
      "metadata": {
        "id": "view-in-github",
        "colab_type": "text"
      },
      "source": [
        "<a href=\"https://colab.research.google.com/github/hansolko/newsEmail/blob/master/pyspark.ipynb\" target=\"_parent\"><img src=\"https://colab.research.google.com/assets/colab-badge.svg\" alt=\"Open In Colab\"/></a>"
      ]
    },
    {
      "cell_type": "code",
      "metadata": {
        "colab": {
          "base_uri": "https://localhost:8080/"
        },
        "id": "4MPnfqvOkAK1",
        "outputId": "e84d4179-bc8d-4f6d-fd08-45ed8bab1819"
      },
      "source": [
        "!pip install pyspark"
      ],
      "execution_count": 1,
      "outputs": [
        {
          "output_type": "stream",
          "name": "stdout",
          "text": [
            "Collecting pyspark\n",
            "  Downloading pyspark-3.2.0.tar.gz (281.3 MB)\n",
            "\u001b[K     |████████████████████████████████| 281.3 MB 38 kB/s \n",
            "\u001b[?25hCollecting py4j==0.10.9.2\n",
            "  Downloading py4j-0.10.9.2-py2.py3-none-any.whl (198 kB)\n",
            "\u001b[K     |████████████████████████████████| 198 kB 64.8 MB/s \n",
            "\u001b[?25hBuilding wheels for collected packages: pyspark\n",
            "  Building wheel for pyspark (setup.py) ... \u001b[?25l\u001b[?25hdone\n",
            "  Created wheel for pyspark: filename=pyspark-3.2.0-py2.py3-none-any.whl size=281805912 sha256=fb5578f1b7e466b7e968d9c11e80c7fb178a60076a575e9e0011e495ca24bec6\n",
            "  Stored in directory: /root/.cache/pip/wheels/0b/de/d2/9be5d59d7331c6c2a7c1b6d1a4f463ce107332b1ecd4e80718\n",
            "Successfully built pyspark\n",
            "Installing collected packages: py4j, pyspark\n",
            "Successfully installed py4j-0.10.9.2 pyspark-3.2.0\n"
          ]
        }
      ]
    },
    {
      "cell_type": "code",
      "metadata": {
        "id": "WUfs7jBCkZ6C"
      },
      "source": [
        "from pyspark.sql import SparkSession\n",
        "from pyspark.sql.types import IntegerType\n",
        "import pyspark.sql.functions as f\n",
        "from datetime import datetime, date\n",
        "from pyspark.sql.functions import col, udf\n",
        "from pyspark.sql.types import DateType\n",
        "from pyspark.sql.functions import when\n",
        "from pyspark.sql.functions import countDistinct"
      ],
      "execution_count": 67,
      "outputs": []
    },
    {
      "cell_type": "markdown",
      "metadata": {
        "id": "c0HySS3XLJ9u"
      },
      "source": [
        "# Day 1."
      ]
    },
    {
      "cell_type": "markdown",
      "metadata": {
        "id": "9S5PvWuQe_gu"
      },
      "source": [
        "## Q1. 데이터 생성"
      ]
    },
    {
      "cell_type": "code",
      "metadata": {
        "id": "ZBZXFVv6k3F_"
      },
      "source": [
        "spark = SparkSession.builder.appName('SparkByExamples').getOrCreate()"
      ],
      "execution_count": null,
      "outputs": []
    },
    {
      "cell_type": "code",
      "metadata": {
        "colab": {
          "base_uri": "https://localhost:8080/"
        },
        "id": "PWUBo6iIlDRv",
        "outputId": "950c3bcd-8690-46f9-c6ef-fc16dfb070cf"
      },
      "source": [
        "data = [(\"James\", \"M\", 60000), (\"Michale\", \"M\", 70000),\n",
        "        (\"Robert\", None, 400000), (\"Maria\", \"F\", 500000),\n",
        "        (\"Jen\", \"\", None)]\n",
        "columns = [\"name\", \"gender\", 'salary']\n",
        "df = spark.createDataFrame(data = data, schema = columns)\n",
        "df.show()"
      ],
      "execution_count": null,
      "outputs": [
        {
          "output_type": "stream",
          "name": "stdout",
          "text": [
            "+-------+------+------+\n",
            "|   name|gender|salary|\n",
            "+-------+------+------+\n",
            "|  James|     M| 60000|\n",
            "|Michale|     M| 70000|\n",
            "| Robert|  null|400000|\n",
            "|  Maria|     F|500000|\n",
            "|    Jen|      |  null|\n",
            "+-------+------+------+\n",
            "\n"
          ]
        }
      ]
    },
    {
      "cell_type": "code",
      "metadata": {
        "colab": {
          "base_uri": "https://localhost:8080/"
        },
        "id": "Nrq-XNIllicx",
        "outputId": "83ff09fa-a13d-4b93-b980-2a37551ad6cf"
      },
      "source": [
        "data2 = [(\"MEM001\", \"M\", \"2021-03-17\"),\n",
        "        (\"MEM003\", \"F\", \"2021-11-01\"),\n",
        "        (\"MEM002\", \"M\", \"2021-05-20\")]\n",
        "columns2 = [\"name\", \"gender\", 'date']\n",
        "df2 = spark.createDataFrame(data = data2, schema = columns2)\n",
        "df2.show()"
      ],
      "execution_count": null,
      "outputs": [
        {
          "output_type": "stream",
          "name": "stdout",
          "text": [
            "+------+------+----------+\n",
            "|  name|gender|      date|\n",
            "+------+------+----------+\n",
            "|MEM001|     M|2021-03-17|\n",
            "|MEM003|     F|2021-11-01|\n",
            "|MEM002|     M|2021-05-20|\n",
            "+------+------+----------+\n",
            "\n"
          ]
        }
      ]
    },
    {
      "cell_type": "markdown",
      "metadata": {
        "id": "Ivv0hbrifIa9"
      },
      "source": [
        "## Q2. 데이터 타입 변환 (datetime type으로)"
      ]
    },
    {
      "cell_type": "code",
      "metadata": {
        "colab": {
          "base_uri": "https://localhost:8080/"
        },
        "id": "Vde3uufkmVIZ",
        "outputId": "4cebddd4-dc99-48bf-a205-f01f404cea60"
      },
      "source": [
        "# This function converts the string cell into a date:\n",
        "func =  udf(lambda x: datetime.strptime(x, '%Y-%m-%d'), DateType())\n",
        "\n",
        "df3 = df2.withColumn('datetime', func(col('date')))\n",
        "df3.show()\n",
        "df3.printSchema()"
      ],
      "execution_count": null,
      "outputs": [
        {
          "output_type": "stream",
          "name": "stdout",
          "text": [
            "+------+------+----------+----------+\n",
            "|  name|gender|      date|  datetime|\n",
            "+------+------+----------+----------+\n",
            "|MEM001|     M|2021-03-17|2021-03-17|\n",
            "|MEM003|     F|2021-11-01|2021-11-01|\n",
            "|MEM002|     M|2021-05-20|2021-05-20|\n",
            "+------+------+----------+----------+\n",
            "\n",
            "root\n",
            " |-- name: string (nullable = true)\n",
            " |-- gender: string (nullable = true)\n",
            " |-- date: string (nullable = true)\n",
            " |-- datetime: date (nullable = true)\n",
            "\n"
          ]
        }
      ]
    },
    {
      "cell_type": "code",
      "metadata": {
        "colab": {
          "base_uri": "https://localhost:8080/"
        },
        "id": "cLkml-QyqgkC",
        "outputId": "aadf4ec1-4060-4821-b9a3-536ab802efcc"
      },
      "source": [
        "# This function makes month column by using datetime column\n",
        "func2 = udf(lambda x: x.month)\n",
        "\n",
        "df4 = df3.withColumn('month', func2(col('datetime')))\n",
        "df5 = df4.drop(df4.datetime)   # 사용한 열 삭제\n",
        "df5.show()"
      ],
      "execution_count": null,
      "outputs": [
        {
          "output_type": "stream",
          "name": "stdout",
          "text": [
            "+------+------+----------+-----+\n",
            "|  name|gender|      date|month|\n",
            "+------+------+----------+-----+\n",
            "|MEM001|     M|2021-03-17|    3|\n",
            "|MEM003|     F|2021-11-01|   11|\n",
            "|MEM002|     M|2021-05-20|    5|\n",
            "+------+------+----------+-----+\n",
            "\n"
          ]
        }
      ]
    },
    {
      "cell_type": "markdown",
      "metadata": {
        "id": "u3bzgevWLOX6"
      },
      "source": [
        "# Day 2."
      ]
    },
    {
      "cell_type": "markdown",
      "metadata": {
        "id": "ddzxMVWQfOBt"
      },
      "source": [
        "## Q1. 데이터 생성"
      ]
    },
    {
      "cell_type": "code",
      "metadata": {
        "id": "xyD0MnuBp5mD"
      },
      "source": [
        "spark = SparkSession.builder.appName('SparkByExamples').getOrCreate()"
      ],
      "execution_count": null,
      "outputs": []
    },
    {
      "cell_type": "code",
      "metadata": {
        "colab": {
          "base_uri": "https://localhost:8080/"
        },
        "id": "D19lJRf_Lt8o",
        "outputId": "67ce6bc9-84f1-46e8-c8a7-c4eee0b486d3"
      },
      "source": [
        "day2_data = [(\"MEM001\", 10, \"2021-03-17\", 12), \n",
        "             (\"MEM003\", 20, \"2021-11-01\", 1),\n",
        "             (\"MEM002\", 10, \"2021-05-20\", 45), \n",
        "             (\"MEM00\", 10, \"2021-05-20\", 32),\n",
        "             (\"MEM00\", 10, \"2021-05-20\", 55),\n",
        "             (\"MEM00\", 10, \"2021-05-20\", 12), \n",
        "             (\"MEM0\", 20, \"2021-05-20\", 1),\n",
        "             (\"MEM0\", 10, \"2021-05-20\", 45), \n",
        "             (\"MEM00\", 30, \"2021-05-20\", 32),\n",
        "             (\"MEM00\", None, \"2021-05-20\", 23),\n",
        "             (\"MEM001\", 10, \"2021-03-17\", 23), \n",
        "             (\"MEM003\", 20, \"2021-11-01\", 12),\n",
        "             (\"MEM002\", 10, \"2021-05-20\", 32), \n",
        "             (\"MEM00\", 30, \"2021-05-20\", 32),\n",
        "             (\"MEM00\", 10, \"2021-05-20\", 55),\n",
        "             (\"MEM00\", 20, \"2021-05-20\", None), \n",
        "             (\"MEM0\", 20, \"2021-05-20\", 1),\n",
        "             (\"MEM0\", 10, \"2021-05-20\", 54), \n",
        "             (\"MEM00\", 10, \"2021-05-20\", 3),\n",
        "             (\"MEM00\", 20, \"2021-05-20\", 53)]\n",
        "day2_columns = [\"회원ID\", \"gender\", 'date', 'age']\n",
        "day2_df = spark.createDataFrame(data = day2_data, schema = day2_columns)\n",
        "day2_df.show()"
      ],
      "execution_count": null,
      "outputs": [
        {
          "output_type": "stream",
          "name": "stdout",
          "text": [
            "+------+------+----------+----+\n",
            "|회원ID|gender|      date| age|\n",
            "+------+------+----------+----+\n",
            "|MEM001|    10|2021-03-17|  12|\n",
            "|MEM003|    20|2021-11-01|   1|\n",
            "|MEM002|    10|2021-05-20|  45|\n",
            "| MEM00|    10|2021-05-20|  32|\n",
            "| MEM00|    10|2021-05-20|  55|\n",
            "| MEM00|    10|2021-05-20|  12|\n",
            "|  MEM0|    20|2021-05-20|   1|\n",
            "|  MEM0|    10|2021-05-20|  45|\n",
            "| MEM00|    30|2021-05-20|  32|\n",
            "| MEM00|  null|2021-05-20|  23|\n",
            "|MEM001|    10|2021-03-17|  23|\n",
            "|MEM003|    20|2021-11-01|  12|\n",
            "|MEM002|    10|2021-05-20|  32|\n",
            "| MEM00|    30|2021-05-20|  32|\n",
            "| MEM00|    10|2021-05-20|  55|\n",
            "| MEM00|    20|2021-05-20|null|\n",
            "|  MEM0|    20|2021-05-20|   1|\n",
            "|  MEM0|    10|2021-05-20|  54|\n",
            "| MEM00|    10|2021-05-20|   3|\n",
            "| MEM00|    20|2021-05-20|  53|\n",
            "+------+------+----------+----+\n",
            "\n"
          ]
        }
      ]
    },
    {
      "cell_type": "markdown",
      "metadata": {
        "id": "1uJlmHnGfQ0z"
      },
      "source": [
        "## Q2. 사용자 함수 생성 후, 컬럼에 적용 (lambda)"
      ]
    },
    {
      "cell_type": "code",
      "metadata": {
        "colab": {
          "base_uri": "https://localhost:8080/"
        },
        "id": "GBMZDOg-LVj9",
        "outputId": "7fd98565-ac6d-4c7d-ef58-0fa6d1d9a899"
      },
      "source": [
        "# Q2\n",
        "def new_gender_generator(x):\n",
        "    if x == 10:\n",
        "        return \"여\"\n",
        "    elif x == 20:\n",
        "        return \"남\"\n",
        "    else:\n",
        "        return \"정보없음\"\n",
        "\n",
        "def new_age_generator(x):\n",
        "    if x == None:\n",
        "        return \"정보없음\"\n",
        "    elif x < 10:\n",
        "        return \"정보없음\"\n",
        "    elif x < 20:\n",
        "        return \"10대\"\n",
        "    elif x < 30:\n",
        "        return \"20대\"\n",
        "    elif x < 40:\n",
        "        return \"30대\"\n",
        "    else:\n",
        "        return \"40대 이상\"\n",
        "\n",
        "\n",
        "gender_udf =  udf(lambda x: new_gender_generator(x))\n",
        "age_udf =  udf(lambda x: new_age_generator(x))\n",
        "\n",
        "# 적용\n",
        "day2_df2 = day2_df.withColumn('new_gender', gender_udf(col('gender')))\n",
        "day2_df3 = day2_df2.withColumn('new_age', age_udf(col('age')))\n",
        "\n",
        "day2_df3.show()\n",
        "day2_df3.printSchema()"
      ],
      "execution_count": null,
      "outputs": [
        {
          "output_type": "stream",
          "name": "stdout",
          "text": [
            "+------+------+----------+----+----------+---------+\n",
            "|회원ID|gender|      date| age|new_gender|  new_age|\n",
            "+------+------+----------+----+----------+---------+\n",
            "|MEM001|    10|2021-03-17|  12|        여|     10대|\n",
            "|MEM003|    20|2021-11-01|   1|        남| 정보없음|\n",
            "|MEM002|    10|2021-05-20|  45|        여|40대 이상|\n",
            "| MEM00|    10|2021-05-20|  32|        여|     30대|\n",
            "| MEM00|    10|2021-05-20|  55|        여|40대 이상|\n",
            "| MEM00|    10|2021-05-20|  12|        여|     10대|\n",
            "|  MEM0|    20|2021-05-20|   1|        남| 정보없음|\n",
            "|  MEM0|    10|2021-05-20|  45|        여|40대 이상|\n",
            "| MEM00|    30|2021-05-20|  32|  정보없음|     30대|\n",
            "| MEM00|  null|2021-05-20|  23|  정보없음|     20대|\n",
            "|MEM001|    10|2021-03-17|  23|        여|     20대|\n",
            "|MEM003|    20|2021-11-01|  12|        남|     10대|\n",
            "|MEM002|    10|2021-05-20|  32|        여|     30대|\n",
            "| MEM00|    30|2021-05-20|  32|  정보없음|     30대|\n",
            "| MEM00|    10|2021-05-20|  55|        여|40대 이상|\n",
            "| MEM00|    20|2021-05-20|null|        남| 정보없음|\n",
            "|  MEM0|    20|2021-05-20|   1|        남| 정보없음|\n",
            "|  MEM0|    10|2021-05-20|  54|        여|40대 이상|\n",
            "| MEM00|    10|2021-05-20|   3|        여| 정보없음|\n",
            "| MEM00|    20|2021-05-20|  53|        남|40대 이상|\n",
            "+------+------+----------+----+----------+---------+\n",
            "\n",
            "root\n",
            " |-- 회원ID: string (nullable = true)\n",
            " |-- gender: long (nullable = true)\n",
            " |-- date: string (nullable = true)\n",
            " |-- age: long (nullable = true)\n",
            " |-- new_gender: string (nullable = true)\n",
            " |-- new_age: string (nullable = true)\n",
            "\n"
          ]
        }
      ]
    },
    {
      "cell_type": "code",
      "metadata": {
        "id": "Ut7Ev9gDP1PX"
      },
      "source": [
        ""
      ],
      "execution_count": null,
      "outputs": []
    },
    {
      "cell_type": "markdown",
      "metadata": {
        "id": "g934TtohfTYZ"
      },
      "source": [
        "# Day3."
      ]
    },
    {
      "cell_type": "markdown",
      "metadata": {
        "id": "_bd-gmlJfVO3"
      },
      "source": [
        "## Q1. 데이터 생성"
      ]
    },
    {
      "cell_type": "code",
      "metadata": {
        "id": "_flw49S4fWHu"
      },
      "source": [
        "spark = SparkSession.builder.appName('SparkByExamples').getOrCreate()"
      ],
      "execution_count": null,
      "outputs": []
    },
    {
      "cell_type": "code",
      "metadata": {
        "colab": {
          "base_uri": "https://localhost:8080/"
        },
        "id": "NUupMD4MfWWe",
        "outputId": "2a48690e-8f58-450a-8145-f51352c10b83"
      },
      "source": [
        "day3_data = [(\"MEM001\",\"2021-03-17\"), \n",
        "             (\"MEM003\",\"2021-11-01\"),\n",
        "             (\"MEM002\",\"2021-05-20\"), \n",
        "             (\"MEM00\",\"2021-05-20\")]\n",
        "day3_columns = [\"회원ID\", 'date']\n",
        "day3_df = spark.createDataFrame(data = day3_data, schema = day3_columns)\n",
        "day3_df.show()"
      ],
      "execution_count": null,
      "outputs": [
        {
          "output_type": "stream",
          "name": "stdout",
          "text": [
            "+------+----------+\n",
            "|회원ID|      date|\n",
            "+------+----------+\n",
            "|MEM001|2021-03-17|\n",
            "|MEM003|2021-11-01|\n",
            "|MEM002|2021-05-20|\n",
            "| MEM00|2021-05-20|\n",
            "+------+----------+\n",
            "\n"
          ]
        }
      ]
    },
    {
      "cell_type": "markdown",
      "metadata": {
        "id": "KeDWoWxchJXz"
      },
      "source": [
        "## Q2. INNER JOIN TEST"
      ]
    },
    {
      "cell_type": "code",
      "metadata": {
        "colab": {
          "base_uri": "https://localhost:8080/"
        },
        "id": "zdsONugWhKmm",
        "outputId": "fb93e030-2f4b-4ccf-d5a7-279ec2adcedd"
      },
      "source": [
        "day2_df3.show()\n",
        "day3_df.show()"
      ],
      "execution_count": null,
      "outputs": [
        {
          "output_type": "stream",
          "name": "stdout",
          "text": [
            "+------+------+----------+----+----------+---------+\n",
            "|회원ID|gender|      date| age|new_gender|  new_age|\n",
            "+------+------+----------+----+----------+---------+\n",
            "|MEM001|    10|2021-03-17|  12|        여|     10대|\n",
            "|MEM003|    20|2021-11-01|   1|        남| 정보없음|\n",
            "|MEM002|    10|2021-05-20|  45|        여|40대 이상|\n",
            "| MEM00|    10|2021-05-20|  32|        여|     30대|\n",
            "| MEM00|    10|2021-05-20|  55|        여|40대 이상|\n",
            "| MEM00|    10|2021-05-20|  12|        여|     10대|\n",
            "|  MEM0|    20|2021-05-20|   1|        남| 정보없음|\n",
            "|  MEM0|    10|2021-05-20|  45|        여|40대 이상|\n",
            "| MEM00|    30|2021-05-20|  32|  정보없음|     30대|\n",
            "| MEM00|  null|2021-05-20|  23|  정보없음|     20대|\n",
            "|MEM001|    10|2021-03-17|  23|        여|     20대|\n",
            "|MEM003|    20|2021-11-01|  12|        남|     10대|\n",
            "|MEM002|    10|2021-05-20|  32|        여|     30대|\n",
            "| MEM00|    30|2021-05-20|  32|  정보없음|     30대|\n",
            "| MEM00|    10|2021-05-20|  55|        여|40대 이상|\n",
            "| MEM00|    20|2021-05-20|null|        남| 정보없음|\n",
            "|  MEM0|    20|2021-05-20|   1|        남| 정보없음|\n",
            "|  MEM0|    10|2021-05-20|  54|        여|40대 이상|\n",
            "| MEM00|    10|2021-05-20|   3|        여| 정보없음|\n",
            "| MEM00|    20|2021-05-20|  53|        남|40대 이상|\n",
            "+------+------+----------+----+----------+---------+\n",
            "\n",
            "+------+----------+\n",
            "|회원ID|      date|\n",
            "+------+----------+\n",
            "|MEM001|2021-03-17|\n",
            "|MEM003|2021-11-01|\n",
            "|MEM002|2021-05-20|\n",
            "| MEM00|2021-05-20|\n",
            "+------+----------+\n",
            "\n"
          ]
        }
      ]
    },
    {
      "cell_type": "code",
      "metadata": {
        "colab": {
          "base_uri": "https://localhost:8080/"
        },
        "id": "JRmYfqxag0km",
        "outputId": "ca7a5410-7004-4666-94de-a83b92a1878a"
      },
      "source": [
        "# join test (사실 할 필요 없음)\n",
        "inner_join = day2_df3.join(day3_df, day2_df3.date == day3_df.date, how = 'inner')\n",
        "inner_join.show()"
      ],
      "execution_count": null,
      "outputs": [
        {
          "output_type": "stream",
          "name": "stdout",
          "text": [
            "+------+------+----------+---+----------+---------+------+----------+\n",
            "|회원ID|gender|      date|age|new_gender|  new_age|회원ID|      date|\n",
            "+------+------+----------+---+----------+---------+------+----------+\n",
            "|MEM001|    10|2021-03-17| 12|        여|     10대|MEM001|2021-03-17|\n",
            "|MEM001|    10|2021-03-17| 23|        여|     20대|MEM001|2021-03-17|\n",
            "|MEM002|    10|2021-05-20| 45|        여|40대 이상|MEM002|2021-05-20|\n",
            "|MEM002|    10|2021-05-20| 45|        여|40대 이상| MEM00|2021-05-20|\n",
            "| MEM00|    10|2021-05-20| 32|        여|     30대|MEM002|2021-05-20|\n",
            "| MEM00|    10|2021-05-20| 32|        여|     30대| MEM00|2021-05-20|\n",
            "| MEM00|    10|2021-05-20| 55|        여|40대 이상|MEM002|2021-05-20|\n",
            "| MEM00|    10|2021-05-20| 55|        여|40대 이상| MEM00|2021-05-20|\n",
            "| MEM00|    10|2021-05-20| 12|        여|     10대|MEM002|2021-05-20|\n",
            "| MEM00|    10|2021-05-20| 12|        여|     10대| MEM00|2021-05-20|\n",
            "|  MEM0|    20|2021-05-20|  1|        남| 정보없음|MEM002|2021-05-20|\n",
            "|  MEM0|    20|2021-05-20|  1|        남| 정보없음| MEM00|2021-05-20|\n",
            "|  MEM0|    10|2021-05-20| 45|        여|40대 이상|MEM002|2021-05-20|\n",
            "|  MEM0|    10|2021-05-20| 45|        여|40대 이상| MEM00|2021-05-20|\n",
            "| MEM00|    30|2021-05-20| 32|  정보없음|     30대|MEM002|2021-05-20|\n",
            "| MEM00|    30|2021-05-20| 32|  정보없음|     30대| MEM00|2021-05-20|\n",
            "| MEM00|  null|2021-05-20| 23|  정보없음|     20대|MEM002|2021-05-20|\n",
            "| MEM00|  null|2021-05-20| 23|  정보없음|     20대| MEM00|2021-05-20|\n",
            "|MEM002|    10|2021-05-20| 32|        여|     30대|MEM002|2021-05-20|\n",
            "|MEM002|    10|2021-05-20| 32|        여|     30대| MEM00|2021-05-20|\n",
            "+------+------+----------+---+----------+---------+------+----------+\n",
            "only showing top 20 rows\n",
            "\n"
          ]
        }
      ]
    },
    {
      "cell_type": "code",
      "metadata": {
        "colab": {
          "base_uri": "https://localhost:8080/"
        },
        "id": "23UvAX-mgykn",
        "outputId": "46402888-66f4-48c8-aca4-4855e6d0ea69"
      },
      "source": [
        "# groupby\n",
        "inner_join_by_gender_age = inner_join.groupby([\"new_gender\", \"new_age\"]).count()\n",
        "inner_join_by_gender_age.show()"
      ],
      "execution_count": null,
      "outputs": [
        {
          "output_type": "stream",
          "name": "stdout",
          "text": [
            "+----------+---------+-----+\n",
            "|new_gender|  new_age|count|\n",
            "+----------+---------+-----+\n",
            "|        남|     10대|    1|\n",
            "|        여| 정보없음|    2|\n",
            "|        여|     20대|    1|\n",
            "|  정보없음|     20대|    2|\n",
            "|        남| 정보없음|    7|\n",
            "|        여|     30대|    4|\n",
            "|        남|40대 이상|    2|\n",
            "|        여|40대 이상|   10|\n",
            "|  정보없음|     30대|    4|\n",
            "|        여|     10대|    3|\n",
            "+----------+---------+-----+\n",
            "\n"
          ]
        }
      ]
    },
    {
      "cell_type": "markdown",
      "metadata": {
        "id": "VUesV66vV0Lf"
      },
      "source": [
        "## Q3. 열 이름 수정"
      ]
    },
    {
      "cell_type": "code",
      "metadata": {
        "colab": {
          "base_uri": "https://localhost:8080/"
        },
        "id": "G4Dy6Uy-V1NW",
        "outputId": "5a747b55-3f35-4566-a1d3-2393787b7d9d"
      },
      "source": [
        "# 열 이름 '활동고객수'로 변경\n",
        "df_spark = inner_join_by_gender_age.select(\n",
        "    col('new_gender'),\n",
        "    col('new_age'),\n",
        "    col('count').alias('활동고객수') \n",
        ")\n",
        "df_spark.show()"
      ],
      "execution_count": null,
      "outputs": [
        {
          "output_type": "stream",
          "name": "stdout",
          "text": [
            "+----------+---------+----------+\n",
            "|new_gender|  new_age|활동고객수|\n",
            "+----------+---------+----------+\n",
            "|        남|     10대|         1|\n",
            "|        여| 정보없음|         2|\n",
            "|        여|     20대|         1|\n",
            "|  정보없음|     20대|         2|\n",
            "|        남| 정보없음|         7|\n",
            "|        여|     30대|         4|\n",
            "|        남|40대 이상|         2|\n",
            "|        여|40대 이상|        10|\n",
            "|  정보없음|     30대|         4|\n",
            "|        여|     10대|         3|\n",
            "+----------+---------+----------+\n",
            "\n"
          ]
        }
      ]
    },
    {
      "cell_type": "markdown",
      "metadata": {
        "id": "qY22HmOvfY_D"
      },
      "source": [
        "## Q4. Sorting"
      ]
    },
    {
      "cell_type": "code",
      "metadata": {
        "colab": {
          "base_uri": "https://localhost:8080/"
        },
        "id": "e-xkzWQbytu2",
        "outputId": "f54d0259-a33e-4fdf-8e92-5b6548f14ca4"
      },
      "source": [
        "# sorting\n",
        "sort_by_gender = df_spark.sort(df_spark.new_gender.asc())\n",
        "sort_by_gender_age = sort_by_gender.sort(sort_by_gender.new_age.asc())\n",
        "sort_by_gender_age.show()"
      ],
      "execution_count": null,
      "outputs": [
        {
          "output_type": "stream",
          "name": "stdout",
          "text": [
            "+----------+---------+----------+\n",
            "|new_gender|  new_age|활동고객수|\n",
            "+----------+---------+----------+\n",
            "|        남|     10대|         1|\n",
            "|        여|     10대|         3|\n",
            "|        여|     20대|         1|\n",
            "|  정보없음|     20대|         2|\n",
            "|        여|     30대|         4|\n",
            "|  정보없음|     30대|         4|\n",
            "|        여|40대 이상|        10|\n",
            "|        남|40대 이상|         2|\n",
            "|        여| 정보없음|         2|\n",
            "|        남| 정보없음|         7|\n",
            "+----------+---------+----------+\n",
            "\n"
          ]
        }
      ]
    },
    {
      "cell_type": "markdown",
      "metadata": {
        "id": "NOZD1uiknPRT"
      },
      "source": [
        "# Day4."
      ]
    },
    {
      "cell_type": "markdown",
      "metadata": {
        "id": "m50R5cKGnSOb"
      },
      "source": [
        "## Q1. csv 파일 불러오기 & 월별로 회원수 Count하기"
      ]
    },
    {
      "cell_type": "code",
      "metadata": {
        "colab": {
          "base_uri": "https://localhost:8080/",
          "height": 35
        },
        "id": "rE7hhTbNnTdV",
        "outputId": "519a7597-9e5a-4807-8400-318c49443b9b"
      },
      "source": [
        "import os\n",
        "os.getcwd()"
      ],
      "execution_count": 4,
      "outputs": [
        {
          "output_type": "execute_result",
          "data": {
            "application/vnd.google.colaboratory.intrinsic+json": {
              "type": "string"
            },
            "text/plain": [
              "'/content'"
            ]
          },
          "metadata": {},
          "execution_count": 4
        }
      ]
    },
    {
      "cell_type": "code",
      "metadata": {
        "colab": {
          "base_uri": "https://localhost:8080/"
        },
        "id": "a_a9AT2HnRMA",
        "outputId": "2a2ceb6d-9cce-4fe7-f49b-433ba321381d"
      },
      "source": [
        "from pyspark.sql import SparkSession\n",
        "spark = SparkSession \\\n",
        "    .builder \\\n",
        "    .appName(\"Python Spark SQL basic example\") \\\n",
        "    .config(\"spark.some.config.option\", \"some-value\") \\\n",
        "    .getOrCreate()\n",
        "\n",
        "# raw data\n",
        "df = spark.read.csv(\"OnlineRetailClean_spark.csv\",header=True)\n",
        "df.show()"
      ],
      "execution_count": 25,
      "outputs": [
        {
          "output_type": "stream",
          "name": "stdout",
          "text": [
            "+---+------+-------+--------------------+--------+--------------+---------+----------+--------------+-------------+------------+\n",
            "|_c0|MBR_ID|MPIC_ID|         Description|Quantity|  ADMS_DTIME_M|UnitPrice|CustomerID|       Country|CheckoutPrice|CRET_DTIME_M|\n",
            "+---+------+-------+--------------------+--------+--------------+---------+----------+--------------+-------------+------------+\n",
            "|  0|536365| 85123A|WHITE HANGING HEA...|       6|12/1/2010 8:26|     2.55|     17850|United Kingdom|         15.3|  2011-02-15|\n",
            "|  1|536365|  71053| WHITE METAL LANTERN|       6|12/1/2010 8:26|     3.39|     17850|United Kingdom|        20.34|  2010-12-22|\n",
            "|  2|536365| 84406B|CREAM CUPID HEART...|       8|12/1/2010 8:26|     2.75|     17850|United Kingdom|           22|  2011-03-19|\n",
            "|  3|536365| 84029G|KNITTED UNION FLA...|       6|12/1/2010 8:26|     3.39|     17850|United Kingdom|        20.34|  2011-05-03|\n",
            "|  4|536365| 84029E|RED WOOLLY HOTTIE...|       6|12/1/2010 8:26|     3.39|     17850|United Kingdom|        20.34|  2011-01-08|\n",
            "|  5|536365|  22752|SET 7 BABUSHKA NE...|       2|12/1/2010 8:26|     7.65|     17850|United Kingdom|         15.3|  2011-11-18|\n",
            "|  6|536365|  21730|GLASS STAR FROSTE...|       6|12/1/2010 8:26|     4.25|     17850|United Kingdom|         25.5|  2010-11-27|\n",
            "|  7|536366|  22633|HAND WARMER UNION...|       6|12/1/2010 8:28|     1.85|     17850|United Kingdom|         11.1|  2011-10-17|\n",
            "|  8|536366|  22632|HAND WARMER RED P...|       6|12/1/2010 8:28|     1.85|     17850|United Kingdom|         11.1|  2010-12-01|\n",
            "|  9|536367|  84879|ASSORTED COLOUR B...|      32|12/1/2010 8:34|     1.69|     13047|United Kingdom|        54.08|  2011-09-18|\n",
            "| 10|536367|  22745|POPPY'S PLAYHOUSE...|       6|12/1/2010 8:34|      2.1|     13047|United Kingdom|         12.6|  2010-11-24|\n",
            "| 11|536367|  22748|POPPY'S PLAYHOUSE...|       6|12/1/2010 8:34|      2.1|     13047|United Kingdom|         12.6|  2011-05-28|\n",
            "| 12|536367|  22749|FELTCRAFT PRINCES...|       8|12/1/2010 8:34|     3.75|     13047|United Kingdom|           30|  2011-03-21|\n",
            "| 13|536367|  22310|IVORY KNITTED MUG...|       6|12/1/2010 8:34|     1.65|     13047|United Kingdom|          9.9|  2011-08-02|\n",
            "| 14|536367|  84969|BOX OF 6 ASSORTED...|       6|12/1/2010 8:34|     4.25|     13047|United Kingdom|         25.5|  2011-11-14|\n",
            "| 15|536367|  22623|BOX OF VINTAGE JI...|       3|12/1/2010 8:34|     4.95|     13047|United Kingdom|        14.85|  2011-04-29|\n",
            "| 16|536367|  22622|BOX OF VINTAGE AL...|       2|12/1/2010 8:34|     9.95|     13047|United Kingdom|         19.9|  2011-11-08|\n",
            "| 17|536367|  21754|HOME BUILDING BLO...|       3|12/1/2010 8:34|     5.95|     13047|United Kingdom|        17.85|  2011-06-05|\n",
            "| 18|536367|  21755|LOVE BUILDING BLO...|       3|12/1/2010 8:34|     5.95|     13047|United Kingdom|        17.85|  2011-09-05|\n",
            "| 19|536367|  21777|RECIPE BOX WITH M...|       4|12/1/2010 8:34|     7.95|     13047|United Kingdom|         31.8|  2011-05-26|\n",
            "+---+------+-------+--------------------+--------+--------------+---------+----------+--------------+-------------+------------+\n",
            "only showing top 20 rows\n",
            "\n"
          ]
        }
      ]
    },
    {
      "cell_type": "code",
      "metadata": {
        "colab": {
          "base_uri": "https://localhost:8080/"
        },
        "id": "UBupKtHSqdmE",
        "outputId": "5f961c46-4bbc-4032-e362-e1514d456601"
      },
      "source": [
        "# This function converts the string cell into a date:\n",
        "func =  udf(lambda x: datetime.strptime(x, '%Y-%m-%d'), DateType())\n",
        "func_adms = udf(lambda x: datetime.strptime(x, '%m/%d/%Y %H:%M'), DateType())\n",
        "\n",
        "df2 = df.withColumn('CRET_DTIME_M2', func(col('CRET_DTIME_M')))\n",
        "df2 = df2.withColumn('ADMS_DTIME_M2', func_adms(col('ADMS_DTIME_M')))\n",
        "\n",
        "# This function makes month column by using datetime column\n",
        "func2 = udf(lambda x: str(x.year) + \"-\" + \"0\" + str(x.month) if x.month < 10 else str(x.year) + \"-\" + str(x.month))\n",
        "\n",
        "df3 = df2.withColumn('CRET_DTIME_M', func2(col('CRET_DTIME_M2')))\n",
        "df3 = df3.withColumn('ADMS_DTIME_M', func2(col('ADMS_DTIME_M2')))\n",
        "df3 = df3.drop(df3.CRET_DTIME_M2)   # 사용한 열 삭제\n",
        "df3 = df3.drop(df3.ADMS_DTIME_M2)   # 사용한 열 삭제\n",
        "df3.show()"
      ],
      "execution_count": 24,
      "outputs": [
        {
          "output_type": "stream",
          "name": "stdout",
          "text": [
            "+---+------+-------+--------------------+--------+------------+---------+----------+--------------+-------------+------------+\n",
            "|_c0|MBR_ID|MPIC_ID|         Description|Quantity|ADMS_DTIME_M|UnitPrice|CustomerID|       Country|CheckoutPrice|CRET_DTIME_M|\n",
            "+---+------+-------+--------------------+--------+------------+---------+----------+--------------+-------------+------------+\n",
            "|  0|536365| 85123A|WHITE HANGING HEA...|       6|     2010-12|     2.55|     17850|United Kingdom|         15.3|     2011-02|\n",
            "|  1|536365|  71053| WHITE METAL LANTERN|       6|     2010-12|     3.39|     17850|United Kingdom|        20.34|     2010-12|\n",
            "|  2|536365| 84406B|CREAM CUPID HEART...|       8|     2010-12|     2.75|     17850|United Kingdom|           22|     2011-03|\n",
            "|  3|536365| 84029G|KNITTED UNION FLA...|       6|     2010-12|     3.39|     17850|United Kingdom|        20.34|     2011-05|\n",
            "|  4|536365| 84029E|RED WOOLLY HOTTIE...|       6|     2010-12|     3.39|     17850|United Kingdom|        20.34|     2011-01|\n",
            "|  5|536365|  22752|SET 7 BABUSHKA NE...|       2|     2010-12|     7.65|     17850|United Kingdom|         15.3|     2011-11|\n",
            "|  6|536365|  21730|GLASS STAR FROSTE...|       6|     2010-12|     4.25|     17850|United Kingdom|         25.5|     2010-11|\n",
            "|  7|536366|  22633|HAND WARMER UNION...|       6|     2010-12|     1.85|     17850|United Kingdom|         11.1|     2011-10|\n",
            "|  8|536366|  22632|HAND WARMER RED P...|       6|     2010-12|     1.85|     17850|United Kingdom|         11.1|     2010-12|\n",
            "|  9|536367|  84879|ASSORTED COLOUR B...|      32|     2010-12|     1.69|     13047|United Kingdom|        54.08|     2011-09|\n",
            "| 10|536367|  22745|POPPY'S PLAYHOUSE...|       6|     2010-12|      2.1|     13047|United Kingdom|         12.6|     2010-11|\n",
            "| 11|536367|  22748|POPPY'S PLAYHOUSE...|       6|     2010-12|      2.1|     13047|United Kingdom|         12.6|     2011-05|\n",
            "| 12|536367|  22749|FELTCRAFT PRINCES...|       8|     2010-12|     3.75|     13047|United Kingdom|           30|     2011-03|\n",
            "| 13|536367|  22310|IVORY KNITTED MUG...|       6|     2010-12|     1.65|     13047|United Kingdom|          9.9|     2011-08|\n",
            "| 14|536367|  84969|BOX OF 6 ASSORTED...|       6|     2010-12|     4.25|     13047|United Kingdom|         25.5|     2011-11|\n",
            "| 15|536367|  22623|BOX OF VINTAGE JI...|       3|     2010-12|     4.95|     13047|United Kingdom|        14.85|     2011-04|\n",
            "| 16|536367|  22622|BOX OF VINTAGE AL...|       2|     2010-12|     9.95|     13047|United Kingdom|         19.9|     2011-11|\n",
            "| 17|536367|  21754|HOME BUILDING BLO...|       3|     2010-12|     5.95|     13047|United Kingdom|        17.85|     2011-06|\n",
            "| 18|536367|  21755|LOVE BUILDING BLO...|       3|     2010-12|     5.95|     13047|United Kingdom|        17.85|     2011-09|\n",
            "| 19|536367|  21777|RECIPE BOX WITH M...|       4|     2010-12|     7.95|     13047|United Kingdom|         31.8|     2011-05|\n",
            "+---+------+-------+--------------------+--------+------------+---------+----------+--------------+-------------+------------+\n",
            "only showing top 20 rows\n",
            "\n"
          ]
        }
      ]
    },
    {
      "cell_type": "code",
      "metadata": {
        "colab": {
          "base_uri": "https://localhost:8080/"
        },
        "id": "gRa2eKPusZ2D",
        "outputId": "71bd33a6-fd17-4955-dc63-6fdeddfa7d0b"
      },
      "source": [
        "# 원하는 열만 추출\n",
        "df_new = df3.select(\n",
        "    col('MBR_ID'),\n",
        "    col('MPIC_ID'),\n",
        "    col('ADMS_DTIME_M'),\n",
        "    col('CRET_DTIME_M')\n",
        ")\n",
        "df_new.show()"
      ],
      "execution_count": 33,
      "outputs": [
        {
          "output_type": "stream",
          "name": "stdout",
          "text": [
            "+------+-------+------------+------------+\n",
            "|MBR_ID|MPIC_ID|ADMS_DTIME_M|CRET_DTIME_M|\n",
            "+------+-------+------------+------------+\n",
            "|536365| 85123A|     2010-12|     2011-02|\n",
            "|536365|  71053|     2010-12|     2010-12|\n",
            "|536365| 84406B|     2010-12|     2011-03|\n",
            "|536365| 84029G|     2010-12|     2011-05|\n",
            "|536365| 84029E|     2010-12|     2011-01|\n",
            "|536365|  22752|     2010-12|     2011-11|\n",
            "|536365|  21730|     2010-12|     2010-11|\n",
            "|536366|  22633|     2010-12|     2011-10|\n",
            "|536366|  22632|     2010-12|     2010-12|\n",
            "|536367|  84879|     2010-12|     2011-09|\n",
            "|536367|  22745|     2010-12|     2010-11|\n",
            "|536367|  22748|     2010-12|     2011-05|\n",
            "|536367|  22749|     2010-12|     2011-03|\n",
            "|536367|  22310|     2010-12|     2011-08|\n",
            "|536367|  84969|     2010-12|     2011-11|\n",
            "|536367|  22623|     2010-12|     2011-04|\n",
            "|536367|  22622|     2010-12|     2011-11|\n",
            "|536367|  21754|     2010-12|     2011-06|\n",
            "|536367|  21755|     2010-12|     2011-09|\n",
            "|536367|  21777|     2010-12|     2011-05|\n",
            "+------+-------+------------+------------+\n",
            "only showing top 20 rows\n",
            "\n"
          ]
        }
      ]
    },
    {
      "cell_type": "code",
      "metadata": {
        "id": "dO7w4i5GvgcD"
      },
      "source": [
        "# df_new_cnt = df_new.groupby('CRET_DTIME_M').count()\n",
        "# # df_new_cnt.show()\n",
        "\n",
        "# # 열 이름 '활동고객수'로 변경\n",
        "# df_new_col = df_new_cnt.select(\n",
        "#     col('CRET_DTIME_M'),\n",
        "#     col('count').alias('인스타 업로드 회원수') \n",
        "# )\n",
        "# df_new_sort = df_new_col.sort(df_new_col.CRET_DTIME_M.asc())\n",
        "# df_new_sort.show()"
      ],
      "execution_count": 66,
      "outputs": []
    },
    {
      "cell_type": "code",
      "metadata": {
        "colab": {
          "base_uri": "https://localhost:8080/"
        },
        "id": "zeaCqWH2ML-z",
        "outputId": "bea18173-d610-4793-9a6f-0cca72f2377f"
      },
      "source": [
        "df_new_cnt = df_new.groupby('CRET_DTIME_M').agg(countDistinct(col('MBR_ID')).alias('인스타 업로드 회원수'))\n",
        "df_new_cnt = df_new_cnt.sort(df_new_cnt.CRET_DTIME_M.asc())\n",
        "df_new_cnt = df_new_cnt.filter((df_new_cnt.CRET_DTIME_M >= '2011-03') & (df_new_cnt.CRET_DTIME_M <= '2011-10'))\n",
        "df_new_cnt.show()"
      ],
      "execution_count": 69,
      "outputs": [
        {
          "output_type": "stream",
          "name": "stdout",
          "text": [
            "+------------+--------------------+\n",
            "|CRET_DTIME_M|인스타 업로드 회원수|\n",
            "+------------+--------------------+\n",
            "|     2011-03|               11600|\n",
            "|     2011-04|               11405|\n",
            "|     2011-05|               11553|\n",
            "|     2011-06|               11425|\n",
            "|     2011-07|               11555|\n",
            "|     2011-08|               11587|\n",
            "|     2011-09|               11346|\n",
            "|     2011-10|               11550|\n",
            "+------------+--------------------+\n",
            "\n"
          ]
        }
      ]
    },
    {
      "cell_type": "markdown",
      "metadata": {
        "id": "JBtozIdVAwz9"
      },
      "source": [
        "## Q2. 가입 기준 업로드 회원"
      ]
    },
    {
      "cell_type": "code",
      "metadata": {
        "id": "iQklmG9oJc4M"
      },
      "source": [
        ""
      ],
      "execution_count": 62,
      "outputs": []
    },
    {
      "cell_type": "code",
      "metadata": {
        "colab": {
          "base_uri": "https://localhost:8080/"
        },
        "id": "_2YHtdO4Ba9p",
        "outputId": "ae028919-a881-4e14-92d2-9edb9ff4b530"
      },
      "source": [
        "# df_filter1 = df_new.select('ADMS_DTIME_M', when((df_filter1.ADMS_DTIME_M == '2011-03') | (df_filter1.ADMS_DTIME_M == '2011-04'), \"가입기준 업로드\"))\n",
        "df_filter1 = df_new.filter((df_filter1.ADMS_DTIME_M == '2011-03') | (df_filter1.ADMS_DTIME_M == '2011-04'))\n",
        "df_filter1.show()\n",
        "# df_gb = df_filter1.groupby('ADMS_DTIME_M')\n",
        "# df_gb.filter(f.col(''))\n",
        "\n",
        "# df_filter2 = df_filter1.filter((df_filter1.CRET_DTIME_M >= '2011-03') & (df_filter1.CRET_DTIME_M <= '2011-10'))\n",
        "# df_filter2.show()"
      ],
      "execution_count": 54,
      "outputs": [
        {
          "output_type": "stream",
          "name": "stdout",
          "text": [
            "+------+-------+------------+------------+\n",
            "|MBR_ID|MPIC_ID|ADMS_DTIME_M|CRET_DTIME_M|\n",
            "+------+-------+------------+------------+\n",
            "|545220|  21955|     2011-03|     2011-07|\n",
            "|545220|  48194|     2011-03|     2011-08|\n",
            "|545220|  22556|     2011-03|     2011-05|\n",
            "|545220|  22139|     2011-03|     2011-06|\n",
            "|545220| 84029G|     2011-03|     2011-01|\n",
            "|545220|  21485|     2011-03|     2011-07|\n",
            "|545220| 17091J|     2011-03|     2010-11|\n",
            "|545220|  84678|     2011-03|     2011-06|\n",
            "|545220|  21700|     2011-03|     2011-09|\n",
            "|545220|  22191|     2011-03|     2011-08|\n",
            "|545220|  22192|     2011-03|     2011-10|\n",
            "|545220|  21624|     2011-03|     2011-05|\n",
            "|545220|  20829|     2011-03|     2011-02|\n",
            "|545220|  22960|     2011-03|     2011-07|\n",
            "|545220|  21259|     2011-03|     2011-10|\n",
            "|545221|  22021|     2011-03|     2011-10|\n",
            "|545221| 85206A|     2011-03|     2011-05|\n",
            "|545221|  22967|     2011-03|     2011-05|\n",
            "|545221|  22925|     2011-03|     2011-06|\n",
            "|545221|  21896|     2011-03|     2011-03|\n",
            "+------+-------+------------+------------+\n",
            "only showing top 20 rows\n",
            "\n"
          ]
        }
      ]
    },
    {
      "cell_type": "code",
      "metadata": {
        "id": "gk_4MpbhAtGH"
      },
      "source": [
        ""
      ],
      "execution_count": null,
      "outputs": []
    },
    {
      "cell_type": "code",
      "metadata": {
        "id": "y3Y1hh77wlo0"
      },
      "source": [
        ""
      ],
      "execution_count": null,
      "outputs": []
    },
    {
      "cell_type": "code",
      "metadata": {
        "id": "vlAqOoxksGrO"
      },
      "source": [
        ""
      ],
      "execution_count": null,
      "outputs": []
    },
    {
      "cell_type": "code",
      "metadata": {
        "id": "mSCa7EDtLVmu"
      },
      "source": [
        ""
      ],
      "execution_count": null,
      "outputs": []
    },
    {
      "cell_type": "code",
      "metadata": {
        "id": "XxRiVD52LVpj"
      },
      "source": [
        ""
      ],
      "execution_count": null,
      "outputs": []
    },
    {
      "cell_type": "code",
      "metadata": {
        "id": "8kDfkFUnLVsD"
      },
      "source": [
        ""
      ],
      "execution_count": null,
      "outputs": []
    },
    {
      "cell_type": "code",
      "metadata": {
        "id": "ZNTPB38CpGJG"
      },
      "source": [
        ""
      ],
      "execution_count": null,
      "outputs": []
    },
    {
      "cell_type": "code",
      "metadata": {
        "id": "JKrXNhIepku2"
      },
      "source": [
        ""
      ],
      "execution_count": null,
      "outputs": []
    }
  ]
}